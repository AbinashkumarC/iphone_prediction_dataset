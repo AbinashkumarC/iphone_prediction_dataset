{
 "cells": [
  {
   "cell_type": "markdown",
   "id": "d2995996",
   "metadata": {},
   "source": [
    "## import the libraries"
   ]
  },
  {
   "cell_type": "code",
   "execution_count": null,
   "id": "cb945e88",
   "metadata": {},
   "outputs": [],
   "source": [
    "from timeit import default_timer as timer\n",
    "from sklearn import metrics\n",
    "from sklearn.model_selection import train_test_split\n",
    "import pandas as pd\n",
    "import numpy as np\n",
    "import os\n",
    "import requests\n",
    "import warnings\n",
    "from IPython.display import HTML\n",
    "warnings.filterwarnings('ignore')"
   ]
  },
  {
   "cell_type": "markdown",
   "id": "f1400831",
   "metadata": {},
   "source": [
    "## import the dataset and read dataset"
   ]
  },
  {
   "cell_type": "code",
   "execution_count": 5,
   "id": "55d364b8-f329-4eea-be75-e54bfa18b95f",
   "metadata": {},
   "outputs": [],
   "source": [
    "dataset_dir = 'data'\n",
    "dataset_name = 'year_prediction_ms'\n",
    "abinash = pd.read_csv(\"C:\\\\Users\\\\Abinashkumar\\\\Downloads\\\\iphone_purchase_records.csv\")\n",
    "os.makedirs(dataset_dir, exist_ok=True)\n",
    "abinash\n",
    "x = abinash[['Age','Purchase Iphone']]\n",
    "y = abinash[['Salary']]\n"
   ]
  },
  {
   "cell_type": "markdown",
   "id": "cb617d46",
   "metadata": {},
   "source": [
    "## split the dataset"
   ]
  },
  {
   "cell_type": "code",
   "execution_count": 6,
   "id": "98f00924-7820-45a1-bd8e-7cd20ee76139",
   "metadata": {},
   "outputs": [
    {
     "data": {
      "text/plain": [
       "((360, 2), (40, 2), (360, 1), (40, 1))"
      ]
     },
     "execution_count": 6,
     "metadata": {},
     "output_type": "execute_result"
    }
   ],
   "source": [
    "x_train, x_test, y_train, y_test = train_test_split(x, y, test_size=0.1, random_state=0)\n",
    "x_train.shape, x_test.shape, y_train.shape, y_test.shape"
   ]
  },
  {
   "cell_type": "markdown",
   "id": "6e82dc64",
   "metadata": {},
   "source": [
    "## preprocessing the dataset"
   ]
  },
  {
   "cell_type": "code",
   "execution_count": 7,
   "id": "3506d877-867c-4882-b837-b57b36860bdf",
   "metadata": {},
   "outputs": [],
   "source": [
    "from sklearn.preprocessing import MinMaxScaler, StandardScaler\n",
    "scaler_x = MinMaxScaler()\n",
    "scaler_y = StandardScaler()"
   ]
  },
  {
   "cell_type": "markdown",
   "id": "96521ce9",
   "metadata": {},
   "source": [
    "## patch the dataset"
   ]
  },
  {
   "cell_type": "code",
   "execution_count": 8,
   "id": "9b6ea548-f4ef-4425-807a-373e087a4f4d",
   "metadata": {},
   "outputs": [
    {
     "name": "stderr",
     "output_type": "stream",
     "text": [
      "Intel(R) Extension for Scikit-learn* enabled (https://github.com/intel/scikit-learn-intelex)\n"
     ]
    }
   ],
   "source": [
    "from sklearnex import patch_sklearn\n",
    "patch_sklearn()"
   ]
  },
  {
   "cell_type": "markdown",
   "id": "84f76448",
   "metadata": {},
   "source": [
    "## import the model"
   ]
  },
  {
   "cell_type": "code",
   "execution_count": null,
   "id": "d4c239dc",
   "metadata": {},
   "outputs": [],
   "source": [
    "from sklearn.linear_model import LinearRegression\n",
    "\n",
    "params = {\n",
    "    \"n_jobs\": -1,\n",
    "    \"copy_X\": False\n",
    "}\n",
    "start = timer()\n",
    "model = LinearRegression(**params).fit(x_train, y_train)\n",
    "train_patched = timer() - start\n",
    "f\"Intel® extension for Scikit-learn time: {train_patched:.2f} s\""
   ]
  },
  {
   "cell_type": "markdown",
   "id": "66a7a67b",
   "metadata": {},
   "source": [
    "##  making the prediction"
   ]
  },
  {
   "cell_type": "code",
   "execution_count": 10,
   "id": "1bb69fcd-5109-47a1-9918-abf41d641a8a",
   "metadata": {},
   "outputs": [
    {
     "data": {
      "text/plain": [
       "'Patched Scikit-learn MSE: 807625205.4537585'"
      ]
     },
     "execution_count": 10,
     "metadata": {},
     "output_type": "execute_result"
    }
   ],
   "source": [
    "y_predict = model.predict(x_test)\n",
    "mse_metric_opt = metrics.mean_squared_error(y_test, y_predict)\n",
    "f'Patched Scikit-learn MSE: {mse_metric_opt}'"
   ]
  },
  {
   "cell_type": "markdown",
   "id": "7ef82135",
   "metadata": {},
   "source": [
    "## import the unpatch  "
   ]
  },
  {
   "cell_type": "code",
   "execution_count": 11,
   "id": "f97b565b-afbf-488e-8cf3-159fe93979a0",
   "metadata": {},
   "outputs": [],
   "source": [
    "from sklearnex import unpatch_sklearn\n",
    "unpatch_sklearn()"
   ]
  },
  {
   "cell_type": "markdown",
   "id": "b699c7bd",
   "metadata": {},
   "source": [
    "## calculate the time"
   ]
  },
  {
   "cell_type": "code",
   "execution_count": 12,
   "id": "e5f4dc2b-f197-47b0-ae01-7ef606de01f1",
   "metadata": {},
   "outputs": [
    {
     "data": {
      "text/plain": [
       "'Original Scikit-learn time: 0.20 s'"
      ]
     },
     "execution_count": 12,
     "metadata": {},
     "output_type": "execute_result"
    }
   ],
   "source": [
    "from sklearn.linear_model import LinearRegression\n",
    "\n",
    "start = timer()\n",
    "model = LinearRegression(**params).fit(x_train, y_train)\n",
    "train_unpatched = timer() - start\n",
    "f\"Original Scikit-learn time: {train_unpatched:.2f} s\""
   ]
  },
  {
   "cell_type": "markdown",
   "id": "d5a1d300",
   "metadata": {},
   "source": [
    "## Mse Score"
   ]
  },
  {
   "cell_type": "code",
   "execution_count": 13,
   "id": "2dda8ebb-5eee-4b6e-b231-085ea418b882",
   "metadata": {},
   "outputs": [
    {
     "data": {
      "text/plain": [
       "'Original Scikit-learn MSE: 807625205.4537581'"
      ]
     },
     "execution_count": 13,
     "metadata": {},
     "output_type": "execute_result"
    }
   ],
   "source": [
    "y_predict = model.predict(x_test)\n",
    "mse_metric_original = metrics.mean_squared_error(y_test, y_predict)\n",
    "f'Original Scikit-learn MSE: {mse_metric_original}'"
   ]
  },
  {
   "cell_type": "code",
   "execution_count": 14,
   "id": "9a4f61d9-a715-49fa-ab81-3c4db0862c39",
   "metadata": {},
   "outputs": [
    {
     "data": {
      "text/html": [
       "<h3>Compare MSE metric of patched Scikit-learn and original</h3>MSE metric of patched Scikit-learn: 807625205.4537585 <br>MSE metric of unpatched Scikit-learn: 807625205.4537581 <br>Metrics ratio: 1.0000000000000004 <br><h3>With Scikit-learn-intelex patching you can:</h3><ul><li>Use your Scikit-learn code for training and prediction with minimal changes (a couple of lines of code);</li><li>Fast execution training and prediction of Scikit-learn models;</li><li>Get the similar quality</li><li>Get speedup in <strong>0.2</strong> times.</li></ul>"
      ],
      "text/plain": [
       "<IPython.core.display.HTML object>"
      ]
     },
     "execution_count": 14,
     "metadata": {},
     "output_type": "execute_result"
    }
   ],
   "source": [
    "HTML(f\"<h3>Compare MSE metric of patched Scikit-learn and original</h3>\"\n",
    "     f\"MSE metric of patched Scikit-learn: {mse_metric_opt} <br>\"\n",
    "     f\"MSE metric of unpatched Scikit-learn: {mse_metric_original} <br>\"\n",
    "     f\"Metrics ratio: {mse_metric_opt/mse_metric_original} <br>\"\n",
    "     f\"<h3>With Scikit-learn-intelex patching you can:</h3>\"\n",
    "     f\"<ul>\"\n",
    "     f\"<li>Use your Scikit-learn code for training and prediction with minimal changes (a couple of lines of code);</li>\"\n",
    "     f\"<li>Fast execution training and prediction of Scikit-learn models;</li>\"\n",
    "     f\"<li>Get the similar quality</li>\"\n",
    "     f\"<li>Get speedup in <strong>{(train_unpatched/train_patched):.1f}</strong> times.</li>\"\n",
    "     f\"</ul>\")"
   ]
  },
  {
   "cell_type": "code",
   "execution_count": null,
   "id": "fa821074-6a60-421e-98e5-bc46c0fc31f6",
   "metadata": {},
   "outputs": [],
   "source": []
  },
  {
   "cell_type": "code",
   "execution_count": null,
   "id": "de22a558-8353-4a60-b362-50cb33cbf11d",
   "metadata": {},
   "outputs": [],
   "source": []
  },
  {
   "cell_type": "code",
   "execution_count": null,
   "id": "66ce6fec-1cc9-45da-8f62-89e30dff7030",
   "metadata": {},
   "outputs": [],
   "source": []
  },
  {
   "cell_type": "code",
   "execution_count": null,
   "id": "65874903-846b-440e-8cfa-583f8d44acb7",
   "metadata": {},
   "outputs": [],
   "source": []
  },
  {
   "cell_type": "code",
   "execution_count": null,
   "id": "df4da20a-e800-4c79-8882-ddb1f6bf47e3",
   "metadata": {},
   "outputs": [],
   "source": []
  },
  {
   "cell_type": "code",
   "execution_count": null,
   "id": "92a21cab-219e-4ee8-a0cf-ffb2e6c84ef8",
   "metadata": {},
   "outputs": [],
   "source": []
  },
  {
   "cell_type": "code",
   "execution_count": null,
   "id": "0833b0f3-c093-4961-bdb5-cbc076fa8f70",
   "metadata": {},
   "outputs": [],
   "source": []
  },
  {
   "cell_type": "code",
   "execution_count": null,
   "id": "c15b36be-2c30-46ea-b66b-950458fdade0",
   "metadata": {},
   "outputs": [],
   "source": []
  },
  {
   "cell_type": "code",
   "execution_count": null,
   "id": "319ae208-1ab2-454e-bc96-a4bce130ee23",
   "metadata": {},
   "outputs": [],
   "source": []
  },
  {
   "cell_type": "code",
   "execution_count": null,
   "id": "6833cc14-06be-4f20-89bf-36918f85d984",
   "metadata": {},
   "outputs": [],
   "source": []
  },
  {
   "cell_type": "code",
   "execution_count": null,
   "id": "c2c48b09-b8e6-491e-a195-319788b6b7eb",
   "metadata": {},
   "outputs": [],
   "source": []
  }
 ],
 "metadata": {
  "kernelspec": {
   "display_name": "Python 3 (ipykernel)",
   "language": "python",
   "name": "python3"
  },
  "language_info": {
   "codemirror_mode": {
    "name": "ipython",
    "version": 3
   },
   "file_extension": ".py",
   "mimetype": "text/x-python",
   "name": "python",
   "nbconvert_exporter": "python",
   "pygments_lexer": "ipython3",
   "version": "3.9.13"
  }
 },
 "nbformat": 4,
 "nbformat_minor": 5
}
